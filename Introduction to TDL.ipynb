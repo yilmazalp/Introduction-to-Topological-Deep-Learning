{
 "cells": [
  {
   "cell_type": "markdown",
   "id": "e67126b5-48f7-4738-a8e1-c8fd6821c24e",
   "metadata": {},
   "source": [
    "# Topological Deep Learning: What is topology"
   ]
  },
  {
   "cell_type": "markdown",
   "id": "98a7b6d9-b2ac-4cde-b332-67b1e9a76089",
   "metadata": {},
   "source": [
    "This is the first article of a series of posts on topological deep learning. Here, we will give an introduction to topology and provide some essential information about some topological domains we will use in algorithms and mechanisms in the context of topological deep learning."
   ]
  },
  {
   "cell_type": "markdown",
   "id": "07780efa-644d-4a27-a411-378e6fb5f961",
   "metadata": {},
   "source": [
    "Topological deep learning is the study that integrates concepts from topology with deep learning mechanisms. This integration enables the analysis and processing of non-Euclidean data structures that traditional deep learning may struggle to handle data effectively. \n",
    "\n",
    "Traditional deep learning models, such as Convolutional Neural Networks and Recurrent Neural Networks, are designed to process data arranged in regular grids, sequences, or images. However, many real-world datasets, including point clouds, meshes, and graphs, exhibit complex structures that do not fit these regular patterns. Topological deep learning addresses this challenge leveraging topological methods to process data with higher-order relationships and complex hierarchies. "
   ]
  },
  {
   "cell_type": "markdown",
   "id": "7f2c7f53-5859-4ad9-8657-f96752dca629",
   "metadata": {},
   "source": [
    "## A little review on topology"
   ]
  },
  {
   "cell_type": "markdown",
   "id": "ec63b8a3-701a-42bc-9924-ffa5785ec922",
   "metadata": {},
   "source": [
    "Topology is a mathematical discipline that studies shapes and spaces that remain invariant under continuous deformations such as stretching, bending, or twisting without gluing or tearing. These deformations are formalized by some algebraic concepts. One of them is homomorphism which is a continuous bijective function with a continuous inverse. It means that a space or shape can be transformed into another one through continuous deformations."
   ]
  },
  {
   "cell_type": "markdown",
   "id": "cb302172-779d-4090-afad-22fa48bac3ca",
   "metadata": {},
   "source": [
    "Before diving into homomorphism deeply, let's give a formal definition of topological space:"
   ]
  },
  {
   "cell_type": "markdown",
   "id": "aad8e113-64d1-4ece-a0c7-8b98f4c13fd9",
   "metadata": {},
   "source": [
    "### Definition of Topological Space\n",
    "\n",
    "A **topology** on a nonempty set $\\mathcal{X}$ is a collection of subsets of $\\mathcal{X}$ such that: \n",
    "\n",
    "* the empty set and the set $\\mathcal{X}$ are open\n",
    "  \n",
    "* the union of any collection of open subsets is open\n",
    "\n",
    "* the finite intersection of open subsets is open"
   ]
  },
  {
   "cell_type": "markdown",
   "id": "e7b1ce61-8829-4a1f-95bf-b96600d6aa39",
   "metadata": {},
   "source": [
    "More formally, suppose that $\\mathcal{T}$ is a collection of open subsets of $\\mathcal{X}$. If one satisfies the three conditions: \n",
    "\n",
    "1. $\\emptyset, \\mathcal{X} \\in \\mathcal{T}$\n",
    "  \n",
    "2. if $U_i \\in \\mathcal{T}$ for $i \\in I$, then $\\bigcup_{i \\in I} U_i \\in \\mathcal{T}$\n",
    "  \n",
    "3. if $U_i \\in \\mathcal{T}$ for $i=1,...,n$, then $\\bigcap_{i=1}^{n} U_i \\in \\mathcal{T}$\n",
    "\n",
    "then, we call $\\mathcal{T}$ a **topology**, the pair $(\\mathcal{X}, \\mathcal{T})$ a **topological space**. "
   ]
  },
  {
   "cell_type": "markdown",
   "id": "4df88c89-41fb-45bc-809b-8de3ffdd677a",
   "metadata": {},
   "source": [
    "### Examples of topology"
   ]
  },
  {
   "cell_type": "markdown",
   "id": "d60e521d-a385-43c5-b097-221de3df7a62",
   "metadata": {},
   "source": [
    "**Trivial topology:**  Let $\\mathcal{X}$ be a nonempty set, $\\mathcal{T} = \\{\\emptyset, \\mathcal{X}\\}$ be a collection of open subsets. The collection $\\mathcal{T}$ consists of empty set and the whole set $\\mathcal{X}$. Clearly, the union of the two elements give the whole set which is placed in the collection $\\mathcal{T}$, while the intersection of them is the empty set which is an element of the $\\mathcal{T}$. Therefore, $\\mathcal{T}$ is a topology on $\\mathcal{X}$, which is called *trivial topology*."
   ]
  },
  {
   "cell_type": "markdown",
   "id": "209f3e01-258d-417e-8c75-9362d8534cfa",
   "metadata": {},
   "source": [
    "**Discrete topology:** Consider the power set $P(\\mathcal{X})$, which is the set of all subsets of $\\mathcal{X}$. Note that the empty set and $\\mathcal{X}$ are included in the $P(\\mathcal{X})$. Since all the subsets are placed in the $P(\\mathcal{X})$, the intersection of and union of all subsets will give another subset which is an element of $P(\\mathcal{X})$. Thus $P(\\mathcal{X})$ is a topology and is called *discrete topology*. "
   ]
  },
  {
   "cell_type": "markdown",
   "id": "bd5ced60-db85-4c9f-9720-c7c4cfb9fb54",
   "metadata": {},
   "source": [
    "For example, let $\\mathcal{X} = \\{1,2,3\\}$ be a set, $\\mathcal{T} = \\{\\emptyset, \\{1\\}, \\{1,3\\}, \\{1,2\\},\\{1,2,3\\} \\}$ be a collection of subsets of $\\mathcal{X}$. By the axioms of being a topology on a set, we can say that $\\mathcal{T}$ is a topology on the set $\\mathcal{X}$. However, since $\\mathcal{T}$ does not include all the subsets of the set $\\mathcal{X}$, it is not a discrete topology. "
   ]
  },
  {
   "cell_type": "markdown",
   "id": "fdf4d19a-15dc-4800-8188-751fa63d8f76",
   "metadata": {},
   "source": [
    "Given $\\mathcal{X} = \\mathbb{Z}$, which is the set of integers, let $\\mathcal{T}$ be a collection of all finite subsets of $\\mathbb{Z}$ with itself. However, the union of all finite subsets of $\\mathbb{Z}$ is not finite, which means it is not included in the collection $\\mathcal{T}$. Thus, $\\mathcal{T}$, the collection of all finite subsets of integers, is not a topology on the set of integers. "
   ]
  },
  {
   "cell_type": "markdown",
   "id": "dd2b99b3-bd1f-436f-87e9-770de1d8bb2b",
   "metadata": {},
   "source": [
    "### Neighborhood topology\n",
    "\n",
    "Besides open sets, topological spaces can be defined in terms of **neighborhoods**. Before giving the definition of topological spaces on neighborhoods, let explain what is the neighborhood. A neighborhood of a point $x \\in \\mathcal{X}$ is a subset $N$ of $\\mathcal{X}$ which includes an open set $U$ containing $x$, which means $x \\in U \\subseteq N \\subseteq \\mathcal{X}$."
   ]
  },
  {
   "cell_type": "markdown",
   "id": "31d31ba1-0a5f-4420-9f23-714a66d842f5",
   "metadata": {},
   "source": [
    "![title](Images/neighborhood.png)"
   ]
  },
  {
   "cell_type": "markdown",
   "id": "6a1a950a-3afd-46a5-956f-e53e12d259f9",
   "metadata": {},
   "source": [
    "Suppose that the small disk with dashed line around $p$ is an open subset of $V$. Then, the neighborhood of $p$ is the set $V$ in the plane. "
   ]
  },
  {
   "cell_type": "markdown",
   "id": "9f5763ae-5e4b-48ef-9d98-46e5341021e9",
   "metadata": {},
   "source": [
    "By the definiton of neighborhoods, we can define a neighborhood as a function assigning each element of the set $\\mathcal{X}$ a nonempty collection $\\mathcal{N(x)}$ of subsets of $\\mathcal{X}$. The function can be mapped as $$\\mathcal{N}: \\mathcal{X} \\longrightarrow \\mathcal{P(\\mathcal{P(\\mathcal{X})})}$$\n",
    "\n",
    "The elements of $\\mathcal{N(x)}$ for $x \\in \\mathcal{X}$ are called **neighborhoods** of the point $x$."
   ]
  },
  {
   "cell_type": "markdown",
   "id": "b723fcdd-5b00-4aa9-aca6-d2fd2979c391",
   "metadata": {},
   "source": [
    "$\\mathcal{N}$ is called **neighborhood topology** if one satisfy the axioms as follows: \n",
    "\n",
    "1. If $N$ is a neighborhood of a point $x$, which means $N \\in \\mathcal{N(x)}$, then $x \\in N$.\n",
    "   \n",
    "2. If $N$ is a subset of $\\mathcal{X}$ including a neighborhood of $x$, then $N$ is neighborhood of $x$. It means that a *superset* of $x$ is also a neighborhood of $x$. \n",
    "\n",
    "3. The intersection of two neighborhoods of a point $x \\in \\mathcal{X}$ is also a neighborhood of $x$.\n",
    "\n",
    "4. If $N$ is neighborhood of $x \\in \\mathcal{X}$, then there exists a neighborhood $M$ of $x$ such that $N$ is a neighborhood of each point of $M$. "
   ]
  },
  {
   "cell_type": "markdown",
   "id": "a370272f-1500-4a6d-a4ae-7b5ed0afc512",
   "metadata": {},
   "source": [
    "#### An example of neighborhood topology\n",
    "\n",
    "Suppose that $\\mathcal{X} = \\{a, b, c, d\\}$ and the collection of open subsets is defined as $\\mathcal{T} = \\{\\emptyset, \\mathcal{X},\\{a\\}, \\{a, b\\}, \\{b\\}\\}$. Note that, by the axioms of being a topology, $\\mathcal{T}$ forms a topology on $\\mathcal{X}$. \n",
    "\n",
    "Let view the neighborhoods of $a \\in \\mathcal{X}$. The smallest open subset in $\\mathcal{T}$ containing $a$ is the $\\{a\\}$. The neighborhoods of $a$ is the subsets of $\\mathcal{X}$ that includes $\\{a\\}$. Thus, $N(a) = \\{\\{a\\}, \\{a,b\\}, \\{a,c\\}, \\{a,d\\}, \\{a,b,c\\}, \\{a,b,d\\}, \\{a,c,d\\}, \\mathcal{X}\\}$ gives the nighborhoods of $a$. \n",
    "\n",
    "Similarly, the smallest open subsets containing $b$ is $\\{b\\} \\in \\mathcal{T}$. Then, $N(b) = \\{\\{b\\}, \\{b,c\\}, \\{a,b\\}, \\{b,d\\}, \\{a,b,d\\}, \\{a,b,c\\}, \\{b,c,d\\}, \\mathcal{X}\\}$ is the set of neighborhoods of $b \\in \\mathcal{X}$. \n",
    "\n",
    "The only open subset which includes $c$ or $d$ is $\\mathcal{X}$, clearly. Thus, $N(c) = \\{\\mathcal{X}\\} = N(d)$"
   ]
  },
  {
   "cell_type": "markdown",
   "id": "009c4e33-71a8-44cc-90fb-375722abe290",
   "metadata": {},
   "source": [
    "$\\mathcal{N(a)}$ forms a neighborhood topology. The point $a$ is included in the all neighborhoods, that are the elements of $\\mathcal{N(a)}$. It follows that the first axiom is satisfied. \n",
    "\n",
    "All superset of $a \\in \\mathcal{X}$ is placed in the $\\mathcal{N(a)}$. \n",
    "\n",
    "Intersection of any two elements in $\\mathcal{N(a)}$ is an element of $\\mathcal{N(a)}$ again. It means that the intersection of two neighborhoods of $a$ is also a neighborhood of $a$. \n",
    "\n",
    "There exists a neighborhood $M=\\{a,c,d\\}$ such that $N=\\mathcal{X}$ is the neighborhood of $a$, $c$, and $d$. "
   ]
  },
  {
   "cell_type": "markdown",
   "id": "e88ab09b-c9cc-4f77-a813-592236829443",
   "metadata": {},
   "source": [
    "### Homeomorphism"
   ]
  },
  {
   "cell_type": "markdown",
   "id": "89e5e892-fc40-4d0b-910f-4905bb441a73",
   "metadata": {},
   "source": [
    "Homeomorphism is a bijective (one-to-one and onto) continuous function such that its inverse is also continuous. If there is a homeomorphism between two objects, then they are called *homeomorphic*. Homeomorphism is a transformation resulting from a continuous deformation of the geometric objects (topological spaces) into a new form. For example, a circle and a square is homeomorphic while a torus and a sphere not. "
   ]
  },
  {
   "cell_type": "markdown",
   "id": "6a680249-4706-49eb-bad2-37b95582448a",
   "metadata": {},
   "source": [
    "More formally, let $f: \\mathcal{X} \\longrightarrow \\mathcal{Y}$ be a function between two topological spaces. The function $f$ is called **homeomorphism** if one satisfies the conditions: \n",
    "\n",
    "1. $f$ is bijective function\n",
    "\n",
    "2. $f$ is continuous\n",
    "\n",
    "3. $f^{-1}$ is continuous"
   ]
  },
  {
   "cell_type": "markdown",
   "id": "c432d536-bacd-4ea8-8e0f-e03f91d984ae",
   "metadata": {},
   "source": [
    "#### Examples of homeomorphisms"
   ]
  },
  {
   "cell_type": "markdown",
   "id": "acbf3990-7eee-45be-92d6-0a7f3ab74004",
   "metadata": {},
   "source": [
    "![title](Images/homeo-2.png)"
   ]
  },
  {
   "cell_type": "markdown",
   "id": "52da6c96-43ea-4191-ad55-9e8ecd6d581b",
   "metadata": {},
   "source": [
    "Two topological spaces shaped of a doughnut and a tea cup are homeomorphic. They can be transformed into each other without gluing or tearing. "
   ]
  },
  {
   "cell_type": "markdown",
   "id": "5be54c73-2376-45bf-b91f-0d6d6ee1dd4a",
   "metadata": {},
   "source": [
    "![title](Images/homeo-3.png)"
   ]
  },
  {
   "cell_type": "markdown",
   "id": "f27039cb-d91b-445b-8d18-961da13aaf83",
   "metadata": {},
   "source": [
    "There exists a homeomorphism between a cube and a sphere. The functions between these topological spaces are bijective continuous having inverse which is continuous as well. "
   ]
  },
  {
   "cell_type": "markdown",
   "id": "e91eb6b8-fd20-4edf-a76d-ed9b2128c713",
   "metadata": {},
   "source": [
    "![title](Images/homeo-5.png)"
   ]
  },
  {
   "cell_type": "markdown",
   "id": "ba444875-0e7f-4292-af08-45964f061f97",
   "metadata": {},
   "source": [
    "A standard torus is homeomorphic to knotted torus. Note that we could not unknot the torus through some deformations like bending,  stretching, squeezing or shrinking. However, it is possible that a knotted torus can be transformed into a standard torus cutting, separating, unknotting, and gluing. Inversely, a knotted torus can be obtained from a standard torus by cutting, knotting, and gluing, respectively. "
   ]
  },
  {
   "cell_type": "markdown",
   "id": "ad7f13ce-a7c4-45d9-bcff-be2f6cf8865b",
   "metadata": {},
   "source": [
    "## Topological Data\n",
    "\n",
    "In this section, we will introduce some topological domains which process data for learning tasks. We are going to view what is higher-order networks and their properties based on the relations. Besides graphs that are domains with binary relations, we will research some topological domains with higher-order relations such as simplicial complexs, cell complexes, and hypergraphs. Finally, we are going to provide some information about combinatorial complexes that are generalization of the domains we have mentioned. Combinatorial complexes will be our main topological domain that we will study in next lectures to understand topological deep learning mechanisms in a better way and through a novel approach. "
   ]
  },
  {
   "cell_type": "markdown",
   "id": "a611db28-304d-4e3b-9a80-a49d133296f0",
   "metadata": {},
   "source": [
    "### Manifolds \n",
    "\n",
    "A **manifold** is a topological space that resembles Euclidean space on small scale but a space which has a more complex structure when considered as a whole. For example, the surface of the Earth appears flat when observed locally but it is globally spherical. "
   ]
  },
  {
   "cell_type": "markdown",
   "id": "47c473a4-d1d9-424b-930c-26ee58cd714c",
   "metadata": {},
   "source": [
    "![title](Images/sphere-manifold.png)"
   ]
  },
  {
   "cell_type": "markdown",
   "id": "be3a2391-8d36-462d-954e-274994e1f7ca",
   "metadata": {},
   "source": [
    "Circle is a $1$-dimensional manifold where each point has a neighborhood resembling a segment of line. As we mentioned in the example of earth, sphere surface is a $2$-dimensional manifold where each point has a neighborhood which looks like a patch of plane. "
   ]
  },
  {
   "cell_type": "markdown",
   "id": "9b9d63be-3b94-4c25-a90b-8a7d24ea4811",
   "metadata": {},
   "source": [
    "![title](Images/circle-manifold.png)"
   ]
  },
  {
   "cell_type": "markdown",
   "id": "ea95c317-d89f-4e71-8def-54b774066516",
   "metadata": {},
   "source": [
    "### Graphs\n",
    "\n",
    "A graph is an ordered pair $G=(V, E)$ where $V$ is the set of vertices, $E$ denotes edge set. We can consider vertices as points or nodes of a graph while edges are the connections or links between the vertices.   "
   ]
  },
  {
   "cell_type": "markdown",
   "id": "c20dbce2-39f4-43a9-9a3d-52373535d8f9",
   "metadata": {},
   "source": [
    "![title](Images/petersen.png)"
   ]
  },
  {
   "cell_type": "markdown",
   "id": "01b893bc-d04c-43bb-beb1-e30226dd42ea",
   "metadata": {},
   "source": [
    "It is an example of a special graph, which is called *Petersen graph*. The red, green, and blue points are the vertices of the graph $G$, the black lines between these nodes are the vertices that connects the vertices."
   ]
  },
  {
   "cell_type": "markdown",
   "id": "eafeb24b-e6ec-4803-a7c7-bc975a06b9cc",
   "metadata": {},
   "source": [
    "**Relation** is a subset of set of vertices in a topological domain. If the number of elements of *relation* set is equal to $2$, then we call it **binary relation**. Clearly, a simple graph can be said as a domain with binary relation. **Higher-order** relation is a relation with a cardinality which is greater than two. For example, one can said that *hypergraphs* are topological domains having higher-order relations.  "
   ]
  },
  {
   "cell_type": "markdown",
   "id": "1f35b8b8-5520-4eb9-a8b1-c53779159c8e",
   "metadata": {},
   "source": [
    "**Relational data** is a type of data which describes data based on the relationships between different objects. For example, graphs are very useful for processing relational data. Vertices represents entities(features) while the pairwise relations between entities are represented by edges."
   ]
  },
  {
   "cell_type": "markdown",
   "id": "54a65297-3727-4120-98cc-0ecebe1072ea",
   "metadata": {},
   "source": [
    "![title](Images/graph.png)"
   ]
  },
  {
   "cell_type": "markdown",
   "id": "04cd332a-bf4f-4364-be8c-4058a97a305c",
   "metadata": {},
   "source": [
    "Above graph is an example of representation of modeling particle interactions in fluid dynamics. The particles are represented by vertices whereas the double directed edges represent the particle interactions. Data on the graph is processed via message-passing mechanisms, which is an algorithm we will explain in next posts. "
   ]
  },
  {
   "cell_type": "markdown",
   "id": "17410310-a958-456b-a8b3-dde018f90b5c",
   "metadata": {},
   "source": [
    "However, real-world applications need data having much more complex structures and multi-part interactions. In the relational data with multi-part interactions, more than two objects interact with each other. Hypergraphs, cell complexes, and combinatorial complexes are some examples of topological domains with *higher-order relations*. These structures move learning and analyze of data from Euclidean distance to its beyond. "
   ]
  },
  {
   "cell_type": "markdown",
   "id": "6e946b38-6d21-43bc-9d1a-f9c086413a70",
   "metadata": {},
   "source": [
    "### Hypergraphs"
   ]
  },
  {
   "cell_type": "markdown",
   "id": "67abe6cd-58a9-4385-8b63-f8e7afeb3a39",
   "metadata": {},
   "source": [
    "![title](Images/hypergraph.png)"
   ]
  },
  {
   "cell_type": "markdown",
   "id": "99103600-8af8-4f99-8efe-2a0d54a8a2ca",
   "metadata": {},
   "source": [
    "**Hypergraph** is a generalization of a graph such that an edge can connect nore than two vertices. Viewing above example, the graph has four edges $e_{1}$, $,e_{2}$, $e_{3}$, and $e_{4}$, represented by yellow, orange, green, and purple clusters, respectively. The edge of $e_{1}$ connects three vertices, $v_{1}$, $v_{2}$, and $v_{3}$. The vertices of $v_{3}$, $v_{5}$, and $v_{6}$ are connected to each other through the edge of $e_{3}$ which is visualized by the green cluster. "
   ]
  },
  {
   "cell_type": "markdown",
   "id": "c5b68e5f-87c5-4912-b62f-fd16126ddd3a",
   "metadata": {},
   "source": [
    "Hypergraphs are higher-order networks which have **set-type relation**. In set-type relations, a relation does not imply another relation in a higher-order network. It means that there is no hierarchy between cells with different ranks. This type of relation is built regarding sets, not ranks in a higher-order network. "
   ]
  },
  {
   "cell_type": "markdown",
   "id": "e5b7dfa5-3f06-4429-844a-9c478827eba6",
   "metadata": {},
   "source": [
    "### Simplicial complexes"
   ]
  },
  {
   "cell_type": "markdown",
   "id": "b20db750-ae4b-4667-b2f9-1321e4ae2194",
   "metadata": {},
   "source": [
    "![title](Images/simplicial-complex.png)"
   ]
  },
  {
   "cell_type": "markdown",
   "id": "3ae5199b-66b3-4750-a8d7-ec72f7afcbe0",
   "metadata": {},
   "source": [
    "Another example of topological domains with higher-order relations is **simplicial complex**. It is defined as a structured set consisting of *simplices* which are points, line segments, triangles, and $n$-dimensional cells for $n \\geq 2$. We are going to define and view this structure formally in next posts. "
   ]
  },
  {
   "cell_type": "markdown",
   "id": "81d4fadd-4e51-487c-80e6-9df46fe39506",
   "metadata": {},
   "source": [
    "Simplicial complexes have **hierarchy of relations** which is a concept saying that cells of a higher-order topological domain can have different rankings. In simplicial complexes, there is a hierarchy of relation between vertices, edges, and higher-order entities that are cells having ranks of $0$, $1$, and $n \\geq 2$, respectively. "
   ]
  },
  {
   "cell_type": "markdown",
   "id": "61297c25-499c-48b0-8528-717ceecc7a16",
   "metadata": {},
   "source": [
    "### Cell complexes"
   ]
  },
  {
   "cell_type": "markdown",
   "id": "7c92a7fe-36aa-4b04-9f8c-c6a3845a6257",
   "metadata": {},
   "source": [
    "![title](Images/triangulated-torus.png)"
   ]
  },
  {
   "cell_type": "markdown",
   "id": "13c78a25-d031-4e68-9acf-f82c5550a3d6",
   "metadata": {},
   "source": [
    "A **cell complex** is a topological space that is obtained by gluing together cells of different dimensions in particular ways. We see above two examples of torus cell complexes. "
   ]
  },
  {
   "cell_type": "markdown",
   "id": "2f03ec8d-6726-4c65-8604-db7d0632a6b5",
   "metadata": {},
   "source": [
    "![title](Images/torus-cell-complex.png)"
   ]
  },
  {
   "cell_type": "markdown",
   "id": "8b8a882f-4685-43f3-9514-467f94e10a50",
   "metadata": {},
   "source": [
    "### Combinatorial complexes"
   ]
  },
  {
   "cell_type": "markdown",
   "id": "627bb131-97ee-475f-937a-bf07b603557f",
   "metadata": {},
   "source": [
    "![title](Images/CCs.png)"
   ]
  },
  {
   "cell_type": "markdown",
   "id": "71db3f8c-f13e-493f-a4b8-3b018e423d6d",
   "metadata": {},
   "source": [
    "**Combinatorial complex** is a higher-order topological domain that generalizes the graphs, simplicial complexes, cell complexes, and hypergraphs. This network is built regarding the relation types of other higher-order networks such as hypergraphs, simplicial complexes, and cell complexes. Combinatorial complexes are higher-order networks which have both set-type relations and hierarchical relations. \n",
    "\n",
    "As seen the figure above, combinatorial complexes are the higher-order network which may have both set-type and hierarchical relations. The first one has a set-type relation while other networks are highher-order domains having a hierarchical relation. Since the maximum rank of the cells in the third network is $3$, the dimension of it is recorded as $3$. Other domains have cells with ranks of $2$ most. Note that the ranks of the orange points(vertices), pink links(edges), blue or purple clusters, and green clusters can be stated as $0$, $1$, $2$, and $3$, respectively. If the rank of a cell is $k$, we call it $k$-cell. "
   ]
  },
  {
   "cell_type": "markdown",
   "id": "cb80a08a-3ac2-4b1e-adb0-4ba7beb2e86e",
   "metadata": {},
   "source": [
    "![title](Images/CCs-examples.png)"
   ]
  },
  {
   "cell_type": "markdown",
   "id": "8bdb3827-2c9b-4934-81cb-78d4d8c87f03",
   "metadata": {},
   "source": [
    "Above figure presents examples of some discrete domains such as (a) grids and images, (b) graphs, (c) simplicial complexes and 3D shapes, (d) cell complexes, (e) discrete manifolds, and (f) hypergraphs. "
   ]
  },
  {
   "cell_type": "markdown",
   "id": "fe8d9ac1-4a56-4dae-a819-878dddf0cedb",
   "metadata": {},
   "source": [
    "We will study combinatorial complexes essentially in next posts. We are going to define these structures formally and view learning of data on this domain in more detailed way.  "
   ]
  },
  {
   "cell_type": "markdown",
   "id": "a5cee613-199a-42db-95db-37ce2a28743f",
   "metadata": {},
   "source": [
    "A variety of functions, signals, or objects can be defined on topological domains, for instance graphs. These data are called **data supported on topological domain**. Intuitevly, graphs can supported the data on only vertices and edges. However, topological domains having higher-order relations can support data not just on vertices and edges. Higher-order entities can be used for supporting data in these topological domains. For example, vector fields defined on meshes are supported on faces of topological domains such as a cell complex torus.  "
   ]
  },
  {
   "cell_type": "markdown",
   "id": "90bd6acc-e188-4e86-8ff7-c769c9422228",
   "metadata": {},
   "source": [
    "Data is processed in graph domain through message-passing algorithm including some concepts like aggregation and updating. Graphs are well-suited for learning and processing data of systems having pairwise interactions. However, these domains may not be successful for modeling complex systems which have higher-order interactions. In such models, the computation of message-passing algorithms may be very costly and we may need higher-order message passing algorithms. For example, although graph neural networks have robust learning models for capturing basic syntax and semantic relations between words, complex expressions such as sarcasm, irony, or negation may not be processed well by mechanisms in traditional GNN. In such learning tasks, we need more complex models processing data supported on domains with higher-order relations. "
   ]
  },
  {
   "cell_type": "markdown",
   "id": "aada8ba9-4dec-4280-af10-bcab68ac487b",
   "metadata": {},
   "source": [
    "## Conclusion\n",
    "\n",
    "In this post, we briefly introduced the concept of topology and discussed various topological domains used in learning tasks. In the next post, we will provide formal definitions of the topological domains we have covered and explore why combinatorial complexes are particularly useful for topological deep learning."
   ]
  },
  {
   "cell_type": "markdown",
   "id": "bb114239-0978-41f9-a584-b4d8501162ae",
   "metadata": {},
   "source": [
    "## References \n",
    "\n",
    "1. Hajij, Mustafa, et al. “Topological deep learning: Going beyond graph data.” arXiv preprint arXiv:2206.00606 (2022).\n",
    "2. Bodnar, Cristian. Topological deep learning: graphs, complexes, sheaves. Diss. 2023.\n",
    "3. Lee, John. Introduction to topological manifolds. Vol. 202. Springer Science & Business Media, 2010.\n",
    "4. Mendelson, Bert. Introduction to topology. Courier Corporation, 1990.\n",
    "5. Hatcher, Allen. Algebraic topology. Cambridge University Press, 2005.\n",
    "6. West, Douglas Brent. Introduction to graph theory. Vol. 2. Upper Saddle River: Prentice hall, 2001.\n",
    "7. Bronstein, Michael M., et al. “Geometric deep learning: going beyond euclidean data.” IEEE Signal Processing Magazine 34.4 (2017): 18–42.\n",
    "8. Edelsbrunner, Herbert, and John L. Harer. Computational topology: an introduction. American Mathematical Society, 2022.\n",
    "9. Epstein, Charles, Gunnar Carlsson, and Herbert Edelsbrunner. “Topological data analysis.” Inverse Problems 27.12 (2011): 120201.\n",
    "10. Rote, Günter, and Gert Vegter. “Computational topology: An introduction.” Effective Computational Geometry for curves and surfaces. Berlin, Heidelberg: Springer Berlin Heidelberg, 2006. 277–312."
   ]
  },
  {
   "cell_type": "code",
   "execution_count": null,
   "id": "41f9d8fd-a64a-4867-bcde-545207e330d7",
   "metadata": {},
   "outputs": [],
   "source": []
  }
 ],
 "metadata": {
  "kernelspec": {
   "display_name": "Python [conda env:base] *",
   "language": "python",
   "name": "conda-base-py"
  },
  "language_info": {
   "codemirror_mode": {
    "name": "ipython",
    "version": 3
   },
   "file_extension": ".py",
   "mimetype": "text/x-python",
   "name": "python",
   "nbconvert_exporter": "python",
   "pygments_lexer": "ipython3",
   "version": "3.12.7"
  }
 },
 "nbformat": 4,
 "nbformat_minor": 5
}
